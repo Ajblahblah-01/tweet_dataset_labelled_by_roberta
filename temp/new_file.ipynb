{
 "cells": [
  {
   "cell_type": "code",
   "execution_count": 2,
   "metadata": {},
   "outputs": [],
   "source": [
    "import pandas as pd\n",
    "from tqdm.notebook import tqdm\n",
    "import snscrape.modules.twitter as sntwitter"
   ]
  },
  {
   "cell_type": "code",
   "execution_count": 56,
   "metadata": {},
   "outputs": [],
   "source": [
    "tweets = []\n",
    "num = 250_000\n",
    "query = \"aapl (feel OR makes OR me OR I’m OR I OR am) min_faves:1000 lang:en -filter:links\""
   ]
  },
  {
   "cell_type": "code",
   "execution_count": 57,
   "metadata": {},
   "outputs": [],
   "source": [
    "scraper = sntwitter.TwitterSearchScraper(query)"
   ]
  },
  {
   "cell_type": "code",
   "execution_count": 58,
   "metadata": {},
   "outputs": [
    {
     "data": {
      "text/plain": [
       "Tweet(url='https://twitter.com/unusual_whales/status/1599168086321803265', date=datetime.datetime(2022, 12, 3, 22, 25, 57, tzinfo=datetime.timezone.utc), rawContent='BREAKING: Apple, $AAPL, makes plans to move production out of China, per WSJ.', renderedContent='BREAKING: Apple, $AAPL, makes plans to move production out of China, per WSJ.', id=1599168086321803265, user=User(username='unusual_whales', id=1200616796295847936, displayname='unusual_whales', rawDescription='Stocks/Options/Crypto/Market News + Tools. Not advice\\n\\nPremium/Support/Terms: https://t.co/mNqlkPyPC3\\n\\nDiscord: https://t.co/0xJ9e0ZYYG\\nOS https://t.co/LyZPu57vL5\\nLinks: https://t.co/nsxZlPV0pC', renderedDescription='Stocks/Options/Crypto/Market News + Tools. Not advice\\n\\nPremium/Support/Terms: unusualwhales.com\\n\\nDiscord: bit.ly/3Bf2pNJ\\nOS bit.ly/3k5Dbv9\\nLinks: bit.ly/3V8D6Gb', descriptionLinks=[TextLink(text='unusualwhales.com', url='http://unusualwhales.com', tcourl='https://t.co/mNqlkPyPC3', indices=(78, 101)), TextLink(text='bit.ly/3Bf2pNJ', url='http://bit.ly/3Bf2pNJ', tcourl='https://t.co/0xJ9e0ZYYG', indices=(112, 135)), TextLink(text='bit.ly/3k5Dbv9', url='http://bit.ly/3k5Dbv9', tcourl='https://t.co/LyZPu57vL5', indices=(139, 162)), TextLink(text='bit.ly/3V8D6Gb', url='http://bit.ly/3V8D6Gb', tcourl='https://t.co/nsxZlPV0pC', indices=(170, 193))], verified=True, created=datetime.datetime(2019, 11, 30, 3, 25, 32, tzinfo=datetime.timezone.utc), followersCount=1234687, friendsCount=2382, statusesCount=98954, favouritesCount=54069, listedCount=10488, mediaCount=17397, location='', protected=False, link=TextLink(text='unusualwhales.com', url='https://unusualwhales.com', tcourl='https://t.co/Fmux22k4t1', indices=(0, 23)), profileImageUrl='https://pbs.twimg.com/profile_images/1610160756292743172/aMthseAB_normal.png', profileBannerUrl='https://pbs.twimg.com/profile_banners/1200616796295847936/1675630720', label=None), replyCount=1344, retweetCount=3947, likeCount=36721, quoteCount=898, conversationId=1599168086321803265, lang='en', source='<a href=\"http://twitter.com/download/iphone\" rel=\"nofollow\">Twitter for iPhone</a>', sourceUrl='http://twitter.com/download/iphone', sourceLabel='Twitter for iPhone', links=None, media=None, retweetedTweet=None, quotedTweet=None, inReplyToTweetId=None, inReplyToUser=None, mentionedUsers=None, coordinates=None, place=None, hashtags=None, cashtags=['AAPL'], card=None, viewCount=None, vibe=None)"
      ]
     },
     "execution_count": 58,
     "metadata": {},
     "output_type": "execute_result"
    }
   ],
   "source": [
    "for tweet in scraper.get_items():\n",
    "    break\n",
    "tweet"
   ]
  },
  {
   "cell_type": "code",
   "execution_count": 40,
   "metadata": {},
   "outputs": [
    {
     "data": {
      "application/vnd.jupyter.widget-view+json": {
       "model_id": "519e56eac3174e0cbdf0388a47015611",
       "version_major": 2,
       "version_minor": 0
      },
      "text/plain": [
       "  0%|          | 0/250000 [00:00<?, ?it/s]"
      ]
     },
     "metadata": {},
     "output_type": "display_data"
    }
   ],
   "source": [
    "for i,tweet in tqdm(enumerate(scraper.get_items()) , total = num):\n",
    "    data = [\n",
    "        tweet.date,\n",
    "        tweet.rawContent\n",
    "    ]\n",
    "    tweets.append(data)\n",
    "    break"
   ]
  },
  {
   "cell_type": "code",
   "execution_count": 41,
   "metadata": {},
   "outputs": [
    {
     "name": "stdout",
     "output_type": "stream",
     "text": [
      "[datetime.datetime(2023, 3, 13, 11, 25, 3, tzinfo=datetime.timezone.utc), '10 stocks I’m holding for the next 10 years:\\n\\n- $AAPL\\n- $GOOG\\n- $MSFT\\n- $DIS\\n- $AMZN\\n- $NVDA\\n- $TSLA\\n- $VOO\\n- $IWM\\n- $VTI\\n\\nWhat are you holding for the next 10 years?'] \n",
      "\n",
      "[datetime.datetime(2023, 3, 13, 11, 25, 3, tzinfo=datetime.timezone.utc), '10 stocks I’m holding for the next 10 years:\\n\\n- $AAPL\\n- $GOOG\\n- $MSFT\\n- $DIS\\n- $AMZN\\n- $NVDA\\n- $TSLA\\n- $VOO\\n- $IWM\\n- $VTI\\n\\nWhat are you holding for the next 10 years?'] \n",
      "\n"
     ]
    }
   ],
   "source": [
    "for i in tweets:\n",
    "    print(i,\"\\n\")"
   ]
  },
  {
   "cell_type": "code",
   "execution_count": null,
   "metadata": {},
   "outputs": [],
   "source": []
  }
 ],
 "metadata": {
  "kernelspec": {
   "display_name": "env_tf",
   "language": "python",
   "name": "python3"
  },
  "language_info": {
   "codemirror_mode": {
    "name": "ipython",
    "version": 3
   },
   "file_extension": ".py",
   "mimetype": "text/x-python",
   "name": "python",
   "nbconvert_exporter": "python",
   "pygments_lexer": "ipython3",
   "version": "3.9.10"
  },
  "orig_nbformat": 4,
  "vscode": {
   "interpreter": {
    "hash": "dfef2f26b3c3e4ee803de71cfeec963cb6e122903696ed427b9a9e2f27e50222"
   }
  }
 },
 "nbformat": 4,
 "nbformat_minor": 2
}
