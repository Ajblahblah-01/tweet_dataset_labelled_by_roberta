{
 "cells": [
  {
   "cell_type": "code",
   "execution_count": 3,
   "metadata": {},
   "outputs": [
    {
     "name": "stdout",
     "output_type": "stream",
     "text": [
      "Requirement already satisfied: pynput in /Users/arpit/miniforge3/envs/env_tf/lib/python3.9/site-packages (1.7.6)\n",
      "Requirement already satisfied: pyobjc-framework-Quartz>=8.0 in /Users/arpit/miniforge3/envs/env_tf/lib/python3.9/site-packages (from pynput) (9.0.1)\n",
      "Requirement already satisfied: six in /Users/arpit/miniforge3/envs/env_tf/lib/python3.9/site-packages (from pynput) (1.15.0)\n",
      "Requirement already satisfied: pyobjc-framework-ApplicationServices>=8.0 in /Users/arpit/miniforge3/envs/env_tf/lib/python3.9/site-packages (from pynput) (9.0.1)\n",
      "Requirement already satisfied: pyobjc-framework-Cocoa>=9.0.1 in /Users/arpit/miniforge3/envs/env_tf/lib/python3.9/site-packages (from pyobjc-framework-ApplicationServices>=8.0->pynput) (9.0.1)\n",
      "Requirement already satisfied: pyobjc-core>=9.0.1 in /Users/arpit/miniforge3/envs/env_tf/lib/python3.9/site-packages (from pyobjc-framework-ApplicationServices>=8.0->pynput) (9.0.1)\n"
     ]
    }
   ],
   "source": [
    "!pip install pynput"
   ]
  },
  {
   "cell_type": "code",
   "execution_count": 4,
   "metadata": {},
   "outputs": [],
   "source": [
    "from pynput.keyboard import Key,Listener"
   ]
  },
  {
   "cell_type": "code",
   "execution_count": null,
   "metadata": {},
   "outputs": [],
   "source": [
    "def on_press(key):\n",
    "    print(f\"{key} pressed\")\n",
    "\n",
    "def on_release(key):\n"
   ]
  },
  {
   "cell_type": "code",
   "execution_count": null,
   "metadata": {},
   "outputs": [],
   "source": [
    "with Listener(on_press = on_press,on_release = on_release) as listener:\n",
    "    listener.join()"
   ]
  },
  {
   "cell_type": "code",
   "execution_count": null,
   "metadata": {},
   "outputs": [],
   "source": []
  }
 ],
 "metadata": {
  "kernelspec": {
   "display_name": "env_tf",
   "language": "python",
   "name": "python3"
  },
  "language_info": {
   "codemirror_mode": {
    "name": "ipython",
    "version": 3
   },
   "file_extension": ".py",
   "mimetype": "text/x-python",
   "name": "python",
   "nbconvert_exporter": "python",
   "pygments_lexer": "ipython3",
   "version": "3.9.10"
  },
  "orig_nbformat": 4,
  "vscode": {
   "interpreter": {
    "hash": "dfef2f26b3c3e4ee803de71cfeec963cb6e122903696ed427b9a9e2f27e50222"
   }
  }
 },
 "nbformat": 4,
 "nbformat_minor": 2
}
