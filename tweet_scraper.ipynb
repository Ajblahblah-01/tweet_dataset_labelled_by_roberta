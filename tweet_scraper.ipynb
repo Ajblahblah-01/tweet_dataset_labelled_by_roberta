{
  "nbformat": 4,
  "nbformat_minor": 0,
  "metadata": {
    "colab": {
      "provenance": [],
      "include_colab_link": true
    },
    "kernelspec": {
      "name": "python3",
      "display_name": "Python 3"
    },
    "language_info": {
      "name": "python"
    }
  },
  "cells": [
    {
      "cell_type": "markdown",
      "metadata": {
        "id": "view-in-github",
        "colab_type": "text"
      },
      "source": [
        "<a href=\"https://colab.research.google.com/github/Ajblahblah-01/tweet_dataset_labelled_by_roberta/blob/main/tweet_scraper.ipynb\" target=\"_parent\"><img src=\"https://colab.research.google.com/assets/colab-badge.svg\" alt=\"Open In Colab\"/></a>"
      ]
    },
    {
      "cell_type": "code",
      "source": [
        "pip install snscrape"
      ],
      "metadata": {
        "colab": {
          "base_uri": "https://localhost:8080/"
        },
        "id": "Pyl0Au6UCuRE",
        "outputId": "bac38031-ad24-4428-cfdf-2380bc23c768"
      },
      "execution_count": null,
      "outputs": [
        {
          "output_type": "stream",
          "name": "stdout",
          "text": [
            "Looking in indexes: https://pypi.org/simple, https://us-python.pkg.dev/colab-wheels/public/simple/\n",
            "Collecting snscrape\n",
            "  Downloading snscrape-0.6.1.20230314-py3-none-any.whl (71 kB)\n",
            "\u001b[2K     \u001b[90m━━━━━━━━━━━━━━━━━━━━━━━━━━━━━━━━━━━━━━━━\u001b[0m \u001b[32m71.6/71.6 KB\u001b[0m \u001b[31m4.8 MB/s\u001b[0m eta \u001b[36m0:00:00\u001b[0m\n",
            "\u001b[?25hRequirement already satisfied: beautifulsoup4 in /usr/local/lib/python3.9/dist-packages (from snscrape) (4.9.3)\n",
            "Requirement already satisfied: lxml in /usr/local/lib/python3.9/dist-packages (from snscrape) (4.9.2)\n",
            "Requirement already satisfied: requests[socks] in /usr/local/lib/python3.9/dist-packages (from snscrape) (2.25.1)\n",
            "Requirement already satisfied: filelock in /usr/local/lib/python3.9/dist-packages (from snscrape) (3.9.0)\n",
            "Requirement already satisfied: soupsieve>1.2 in /usr/local/lib/python3.9/dist-packages (from beautifulsoup4->snscrape) (2.4)\n",
            "Requirement already satisfied: certifi>=2017.4.17 in /usr/local/lib/python3.9/dist-packages (from requests[socks]->snscrape) (2022.12.7)\n",
            "Requirement already satisfied: urllib3<1.27,>=1.21.1 in /usr/local/lib/python3.9/dist-packages (from requests[socks]->snscrape) (1.26.15)\n",
            "Requirement already satisfied: idna<3,>=2.5 in /usr/local/lib/python3.9/dist-packages (from requests[socks]->snscrape) (2.10)\n",
            "Requirement already satisfied: chardet<5,>=3.0.2 in /usr/local/lib/python3.9/dist-packages (from requests[socks]->snscrape) (4.0.0)\n",
            "Requirement already satisfied: PySocks!=1.5.7,>=1.5.6 in /usr/local/lib/python3.9/dist-packages (from requests[socks]->snscrape) (1.7.1)\n",
            "Installing collected packages: snscrape\n",
            "Successfully installed snscrape-0.6.1.20230314\n"
          ]
        }
      ]
    },
    {
      "cell_type": "code",
      "execution_count": null,
      "metadata": {
        "id": "Oy8IRvuLAk9-"
      },
      "outputs": [],
      "source": [
        "import pandas as pd\n",
        "from tqdm.notebook import tqdm\n",
        "import snscrape.modules.twitter as sntwitter"
      ]
    },
    {
      "cell_type": "code",
      "source": [
        "query = \"#python\"\n",
        "tweets = []"
      ],
      "metadata": {
        "id": "a34rdBh7DMQx"
      },
      "execution_count": null,
      "outputs": []
    },
    {
      "cell_type": "code",
      "source": [
        "scraper = sntwitter.TwitterSearchScraper(query)"
      ],
      "metadata": {
        "id": "g_Ns9C4OCo5N"
      },
      "execution_count": null,
      "outputs": []
    },
    {
      "cell_type": "code",
      "source": [
        "for tweet in scraper.get_items():\n",
        "  break"
      ],
      "metadata": {
        "id": "dIORiL6oDfU1"
      },
      "execution_count": null,
      "outputs": []
    },
    {
      "cell_type": "code",
      "source": [
        "tweet"
      ],
      "metadata": {
        "colab": {
          "base_uri": "https://localhost:8080/"
        },
        "id": "QGtuCO-UDmRd",
        "outputId": "a94e8189-8fbd-4e52-e9e3-74fc75e6ea9e"
      },
      "execution_count": null,
      "outputs": [
        {
          "output_type": "execute_result",
          "data": {
            "text/plain": [
              "Tweet(url='https://twitter.com/IamAritraG/status/1636333847775412225', date=datetime.datetime(2023, 3, 16, 11, 49, 25, tzinfo=datetime.timezone.utc), rawContent='💡 Execution matters not the Idea\\n\\n#DataScientists #MachineLearning  #digitalhealth #eHealth #innovation #technology #web3 #metaverse #python #smartcities #robots #Robotics \\n@sonu_monika @Khulood_Alman\\n@enilev @Jagersbergknut @chidambara09 @EvaSmartAI @PDH_Metaverse… https://t.co/kSCHAyclCW', renderedContent='💡 Execution matters not the Idea\\n\\n#DataScientists #MachineLearning  #digitalhealth #eHealth #innovation #technology #web3 #metaverse #python #smartcities #robots #Robotics \\n@sonu_monika @Khulood_Alman\\n@enilev @Jagersbergknut @chidambara09 @EvaSmartAI @PDH_Metaverse… https://t.co/kSCHAyclCW', id=1636333847775412225, user=User(username='IamAritraG', id=1587697521463537665, displayname='Aritra Ghosh', rawDescription=\"So here's to Aritra Ghosh,\\nAn Entrepreneur in his time,\\nChanging the world of data and cloud,\\nOne Innovation at a time.\", renderedDescription=\"So here's to Aritra Ghosh,\\nAn Entrepreneur in his time,\\nChanging the world of data and cloud,\\nOne Innovation at a time.\", descriptionLinks=None, verified=False, created=datetime.datetime(2022, 11, 2, 6, 46, 35, tzinfo=datetime.timezone.utc), followersCount=557, friendsCount=362, statusesCount=946, favouritesCount=292, listedCount=1, mediaCount=416, location='नई दिल्ली, भारत', protected=False, link=TextLink(text='aritraghosh.in', url='http://aritraghosh.in', tcourl='https://t.co/52GAggyfHO', indices=(0, 23)), profileImageUrl='https://pbs.twimg.com/profile_images/1618984592752394240/xKO9vb80_normal.jpg', profileBannerUrl='https://pbs.twimg.com/profile_banners/1587697521463537665/1670083581', label=None), replyCount=0, retweetCount=0, likeCount=0, quoteCount=0, conversationId=1636333847775412225, lang='en', source='<a href=\"http://twitter.com/download/android\" rel=\"nofollow\">Twitter for Android</a>', sourceUrl='http://twitter.com/download/android', sourceLabel='Twitter for Android', links=None, media=[Photo(previewUrl='https://pbs.twimg.com/media/FrVs9ktX0AEuKVA?format=jpg&name=small', fullUrl='https://pbs.twimg.com/media/FrVs9ktX0AEuKVA?format=jpg&name=orig', altText=None)], retweetedTweet=None, quotedTweet=None, inReplyToTweetId=None, inReplyToUser=None, mentionedUsers=[User(username='sonu_monika', id=1025638818068590592, displayname='Dr. Monika Sonu, CEO Healthinnovationtoolbox 🌍 ⚕️', rawDescription=None, renderedDescription=None, descriptionLinks=None, verified=None, created=None, followersCount=None, friendsCount=None, statusesCount=None, favouritesCount=None, listedCount=None, mediaCount=None, location=None, protected=None, link=None, profileImageUrl=None, profileBannerUrl=None, label=None), User(username='enilev', id=130344472, displayname='Eveline Ruehlin', rawDescription=None, renderedDescription=None, descriptionLinks=None, verified=None, created=None, followersCount=None, friendsCount=None, statusesCount=None, favouritesCount=None, listedCount=None, mediaCount=None, location=None, protected=None, link=None, profileImageUrl=None, profileBannerUrl=None, label=None), User(username='JagersbergKnut', id=1010498049058201600, displayname='Knut Jägersberg', rawDescription=None, renderedDescription=None, descriptionLinks=None, verified=None, created=None, followersCount=None, friendsCount=None, statusesCount=None, favouritesCount=None, listedCount=None, mediaCount=None, location=None, protected=None, link=None, profileImageUrl=None, profileBannerUrl=None, label=None), User(username='chidambara09', id=737142202481016832, displayname='Chidambara .ML.', rawDescription=None, renderedDescription=None, descriptionLinks=None, verified=None, created=None, followersCount=None, friendsCount=None, statusesCount=None, favouritesCount=None, listedCount=None, mediaCount=None, location=None, protected=None, link=None, profileImageUrl=None, profileBannerUrl=None, label=None), User(username='EvaSmartAI', id=1186144637012074497, displayname='Eva 🇬🇪 🇪🇺 🇺🇦', rawDescription=None, renderedDescription=None, descriptionLinks=None, verified=None, created=None, followersCount=None, friendsCount=None, statusesCount=None, favouritesCount=None, listedCount=None, mediaCount=None, location=None, protected=None, link=None, profileImageUrl=None, profileBannerUrl=None, label=None), User(username='PDH_Metaverse', id=738752276836306944, displayname='Philip D Hughes - Breaking Futurist News', rawDescription=None, renderedDescription=None, descriptionLinks=None, verified=None, created=None, followersCount=None, friendsCount=None, statusesCount=None, favouritesCount=None, listedCount=None, mediaCount=None, location=None, protected=None, link=None, profileImageUrl=None, profileBannerUrl=None, label=None)], coordinates=None, place=None, hashtags=['DataScientists', 'MachineLearning', 'digitalhealth', 'eHealth', 'innovation', 'technology', 'web3', 'metaverse', 'python', 'smartcities', 'robots', 'Robotics'], cashtags=None, card=None, viewCount=1, vibe=None)"
            ]
          },
          "metadata": {},
          "execution_count": 6
        }
      ]
    },
    {
      "cell_type": "code",
      "source": [
        "for i,tweet in enumerate(scraper.get_items()):\n",
        "  if i > 50:\n",
        "    break\n",
        "  data = [\n",
        "    tweet.date,\n",
        "    tweet.rawContent\n",
        "  ]\n",
        "  tweets.append(data)"
      ],
      "metadata": {
        "id": "I1EPeIKBD-2V"
      },
      "execution_count": null,
      "outputs": []
    },
    {
      "cell_type": "code",
      "source": [
        "from google.colab import files\n",
        "df = pd.DataFrame(tweets)\n",
        "df.head()"
      ],
      "metadata": {
        "colab": {
          "base_uri": "https://localhost:8080/",
          "height": 204
        },
        "id": "0QbiMvDdEhTN",
        "outputId": "54509cda-94ab-4fdd-fe3f-1ed194855862"
      },
      "execution_count": null,
      "outputs": [
        {
          "output_type": "execute_result",
          "data": {
            "text/plain": [
              "                          0                                                  1\n",
              "0 2023-03-16 11:49:25+00:00  💡 Execution matters not the Idea\\n\\n#DataScien...\n",
              "1 2023-03-16 11:49:07+00:00  逆に、数式に落とすのがめんどくさいモデルを適当に最適化したいときに\\nニューラルネットワーク...\n",
              "2 2023-03-16 11:48:49+00:00  Top 8 Courses to Learn Apache Spark Online in ...\n",
              "3 2023-03-16 11:48:29+00:00  Rust Developers Cancel GDC Presentation Due To...\n",
              "4 2023-03-16 11:48:28+00:00  Avatar: The Way Of Water - how gaming tech hel..."
            ],
            "text/html": [
              "\n",
              "  <div id=\"df-05870ca3-7e76-48ce-a2ca-b6fd105be1d6\">\n",
              "    <div class=\"colab-df-container\">\n",
              "      <div>\n",
              "<style scoped>\n",
              "    .dataframe tbody tr th:only-of-type {\n",
              "        vertical-align: middle;\n",
              "    }\n",
              "\n",
              "    .dataframe tbody tr th {\n",
              "        vertical-align: top;\n",
              "    }\n",
              "\n",
              "    .dataframe thead th {\n",
              "        text-align: right;\n",
              "    }\n",
              "</style>\n",
              "<table border=\"1\" class=\"dataframe\">\n",
              "  <thead>\n",
              "    <tr style=\"text-align: right;\">\n",
              "      <th></th>\n",
              "      <th>0</th>\n",
              "      <th>1</th>\n",
              "    </tr>\n",
              "  </thead>\n",
              "  <tbody>\n",
              "    <tr>\n",
              "      <th>0</th>\n",
              "      <td>2023-03-16 11:49:25+00:00</td>\n",
              "      <td>💡 Execution matters not the Idea\\n\\n#DataScien...</td>\n",
              "    </tr>\n",
              "    <tr>\n",
              "      <th>1</th>\n",
              "      <td>2023-03-16 11:49:07+00:00</td>\n",
              "      <td>逆に、数式に落とすのがめんどくさいモデルを適当に最適化したいときに\\nニューラルネットワーク...</td>\n",
              "    </tr>\n",
              "    <tr>\n",
              "      <th>2</th>\n",
              "      <td>2023-03-16 11:48:49+00:00</td>\n",
              "      <td>Top 8 Courses to Learn Apache Spark Online in ...</td>\n",
              "    </tr>\n",
              "    <tr>\n",
              "      <th>3</th>\n",
              "      <td>2023-03-16 11:48:29+00:00</td>\n",
              "      <td>Rust Developers Cancel GDC Presentation Due To...</td>\n",
              "    </tr>\n",
              "    <tr>\n",
              "      <th>4</th>\n",
              "      <td>2023-03-16 11:48:28+00:00</td>\n",
              "      <td>Avatar: The Way Of Water - how gaming tech hel...</td>\n",
              "    </tr>\n",
              "  </tbody>\n",
              "</table>\n",
              "</div>\n",
              "      <button class=\"colab-df-convert\" onclick=\"convertToInteractive('df-05870ca3-7e76-48ce-a2ca-b6fd105be1d6')\"\n",
              "              title=\"Convert this dataframe to an interactive table.\"\n",
              "              style=\"display:none;\">\n",
              "        \n",
              "  <svg xmlns=\"http://www.w3.org/2000/svg\" height=\"24px\"viewBox=\"0 0 24 24\"\n",
              "       width=\"24px\">\n",
              "    <path d=\"M0 0h24v24H0V0z\" fill=\"none\"/>\n",
              "    <path d=\"M18.56 5.44l.94 2.06.94-2.06 2.06-.94-2.06-.94-.94-2.06-.94 2.06-2.06.94zm-11 1L8.5 8.5l.94-2.06 2.06-.94-2.06-.94L8.5 2.5l-.94 2.06-2.06.94zm10 10l.94 2.06.94-2.06 2.06-.94-2.06-.94-.94-2.06-.94 2.06-2.06.94z\"/><path d=\"M17.41 7.96l-1.37-1.37c-.4-.4-.92-.59-1.43-.59-.52 0-1.04.2-1.43.59L10.3 9.45l-7.72 7.72c-.78.78-.78 2.05 0 2.83L4 21.41c.39.39.9.59 1.41.59.51 0 1.02-.2 1.41-.59l7.78-7.78 2.81-2.81c.8-.78.8-2.07 0-2.86zM5.41 20L4 18.59l7.72-7.72 1.47 1.35L5.41 20z\"/>\n",
              "  </svg>\n",
              "      </button>\n",
              "      \n",
              "  <style>\n",
              "    .colab-df-container {\n",
              "      display:flex;\n",
              "      flex-wrap:wrap;\n",
              "      gap: 12px;\n",
              "    }\n",
              "\n",
              "    .colab-df-convert {\n",
              "      background-color: #E8F0FE;\n",
              "      border: none;\n",
              "      border-radius: 50%;\n",
              "      cursor: pointer;\n",
              "      display: none;\n",
              "      fill: #1967D2;\n",
              "      height: 32px;\n",
              "      padding: 0 0 0 0;\n",
              "      width: 32px;\n",
              "    }\n",
              "\n",
              "    .colab-df-convert:hover {\n",
              "      background-color: #E2EBFA;\n",
              "      box-shadow: 0px 1px 2px rgba(60, 64, 67, 0.3), 0px 1px 3px 1px rgba(60, 64, 67, 0.15);\n",
              "      fill: #174EA6;\n",
              "    }\n",
              "\n",
              "    [theme=dark] .colab-df-convert {\n",
              "      background-color: #3B4455;\n",
              "      fill: #D2E3FC;\n",
              "    }\n",
              "\n",
              "    [theme=dark] .colab-df-convert:hover {\n",
              "      background-color: #434B5C;\n",
              "      box-shadow: 0px 1px 3px 1px rgba(0, 0, 0, 0.15);\n",
              "      filter: drop-shadow(0px 1px 2px rgba(0, 0, 0, 0.3));\n",
              "      fill: #FFFFFF;\n",
              "    }\n",
              "  </style>\n",
              "\n",
              "      <script>\n",
              "        const buttonEl =\n",
              "          document.querySelector('#df-05870ca3-7e76-48ce-a2ca-b6fd105be1d6 button.colab-df-convert');\n",
              "        buttonEl.style.display =\n",
              "          google.colab.kernel.accessAllowed ? 'block' : 'none';\n",
              "\n",
              "        async function convertToInteractive(key) {\n",
              "          const element = document.querySelector('#df-05870ca3-7e76-48ce-a2ca-b6fd105be1d6');\n",
              "          const dataTable =\n",
              "            await google.colab.kernel.invokeFunction('convertToInteractive',\n",
              "                                                     [key], {});\n",
              "          if (!dataTable) return;\n",
              "\n",
              "          const docLinkHtml = 'Like what you see? Visit the ' +\n",
              "            '<a target=\"_blank\" href=https://colab.research.google.com/notebooks/data_table.ipynb>data table notebook</a>'\n",
              "            + ' to learn more about interactive tables.';\n",
              "          element.innerHTML = '';\n",
              "          dataTable['output_type'] = 'display_data';\n",
              "          await google.colab.output.renderOutput(dataTable, element);\n",
              "          const docLink = document.createElement('div');\n",
              "          docLink.innerHTML = docLinkHtml;\n",
              "          element.appendChild(docLink);\n",
              "        }\n",
              "      </script>\n",
              "    </div>\n",
              "  </div>\n",
              "  "
            ]
          },
          "metadata": {},
          "execution_count": 17
        }
      ]
    },
    {
      "cell_type": "code",
      "source": [
        "csv_string = df.to_csv(index=False)"
      ],
      "metadata": {
        "id": "jtS0pgfwQZJR"
      },
      "execution_count": null,
      "outputs": []
    },
    {
      "cell_type": "code",
      "source": [
        "with open('sample.csv', 'w') as f:\n",
        "    f.write(csv_string)"
      ],
      "metadata": {
        "id": "Rjtrou7oStwa"
      },
      "execution_count": null,
      "outputs": []
    },
    {
      "cell_type": "code",
      "source": [
        "files.download('sample.csv')"
      ],
      "metadata": {
        "colab": {
          "base_uri": "https://localhost:8080/",
          "height": 17
        },
        "id": "vX70WjOrSoBc",
        "outputId": "5551ff80-493f-49b2-8e3b-6240723a67c1"
      },
      "execution_count": null,
      "outputs": [
        {
          "output_type": "display_data",
          "data": {
            "text/plain": [
              "<IPython.core.display.Javascript object>"
            ],
            "application/javascript": [
              "\n",
              "    async function download(id, filename, size) {\n",
              "      if (!google.colab.kernel.accessAllowed) {\n",
              "        return;\n",
              "      }\n",
              "      const div = document.createElement('div');\n",
              "      const label = document.createElement('label');\n",
              "      label.textContent = `Downloading \"${filename}\": `;\n",
              "      div.appendChild(label);\n",
              "      const progress = document.createElement('progress');\n",
              "      progress.max = size;\n",
              "      div.appendChild(progress);\n",
              "      document.body.appendChild(div);\n",
              "\n",
              "      const buffers = [];\n",
              "      let downloaded = 0;\n",
              "\n",
              "      const channel = await google.colab.kernel.comms.open(id);\n",
              "      // Send a message to notify the kernel that we're ready.\n",
              "      channel.send({})\n",
              "\n",
              "      for await (const message of channel.messages) {\n",
              "        // Send a message to notify the kernel that we're ready.\n",
              "        channel.send({})\n",
              "        if (message.buffers) {\n",
              "          for (const buffer of message.buffers) {\n",
              "            buffers.push(buffer);\n",
              "            downloaded += buffer.byteLength;\n",
              "            progress.value = downloaded;\n",
              "          }\n",
              "        }\n",
              "      }\n",
              "      const blob = new Blob(buffers, {type: 'application/binary'});\n",
              "      const a = document.createElement('a');\n",
              "      a.href = window.URL.createObjectURL(blob);\n",
              "      a.download = filename;\n",
              "      div.appendChild(a);\n",
              "      a.click();\n",
              "      div.remove();\n",
              "    }\n",
              "  "
            ]
          },
          "metadata": {}
        },
        {
          "output_type": "display_data",
          "data": {
            "text/plain": [
              "<IPython.core.display.Javascript object>"
            ],
            "application/javascript": [
              "download(\"download_4689b87e-e15c-40d6-bd62-0107581eb27c\", \"sample.csv\", 11860)"
            ]
          },
          "metadata": {}
        }
      ]
    },
    {
      "cell_type": "code",
      "source": [
        "url = \"https://raw.githubusercontent.com/Ajblahblah-01/tweet_dataset_labelled_by_roberta/test-encoding/temp/sample.csv\"\n",
        "df = pd.read_csv(url)\n",
        "df['1'].head(12)"
      ],
      "metadata": {
        "colab": {
          "base_uri": "https://localhost:8080/"
        },
        "id": "H6aB7RLZS31O",
        "outputId": "f487efd9-4e6f-4a1f-9bf6-885b0f946609"
      },
      "execution_count": null,
      "outputs": [
        {
          "output_type": "execute_result",
          "data": {
            "text/plain": [
              "0     💡 Execution matters not the Idea\\n\\n#DataScien...\n",
              "1     逆に、数式に落とすのがめんどくさいモデルを適当に最適化したいときに\\nニューラルネットワーク...\n",
              "2     Top 8 Courses to Learn Apache Spark Online in ...\n",
              "3     Rust Developers Cancel GDC Presentation Due To...\n",
              "4     Avatar: The Way Of Water - how gaming tech hel...\n",
              "5     Python Basics - I have just completed this roo...\n",
              "6     Just released: \"PyTorch and Scikit-Learn for M...\n",
              "7     \"Are you ready to master Python? Check out 'Ge...\n",
              "8     Finally!!!\\nI managed to put my hands on an #e...\n",
              "9     NEW #PMP Course on Udemy \\n\\nPMP Exam Preparat...\n",
              "10    「最大文字列」合格できました！ https://t.co/FnnMQHaRZX #Recur...\n",
              "11    LinkedIn now uses AI to write profiles and job...\n",
              "Name: 1, dtype: object"
            ]
          },
          "metadata": {},
          "execution_count": 26
        }
      ]
    },
    {
      "cell_type": "code",
      "source": [],
      "metadata": {
        "id": "ZeqHQd6qTKUB"
      },
      "execution_count": null,
      "outputs": []
    }
  ]
}