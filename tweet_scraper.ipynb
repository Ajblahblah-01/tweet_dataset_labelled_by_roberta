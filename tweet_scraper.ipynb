{
  "cells": [
    {
      "cell_type": "markdown",
      "metadata": {
        "colab_type": "text",
        "id": "view-in-github"
      },
      "source": [
        "<a href=\"https://colab.research.google.com/github/Ajblahblah-01/tweet_dataset_labelled_by_roberta/blob/main/tweet_scraper.ipynb\" target=\"_parent\"><img src=\"https://colab.research.google.com/assets/colab-badge.svg\" alt=\"Open In Colab\"/></a>"
      ]
    },
    {
      "cell_type": "code",
      "execution_count": null,
      "metadata": {
        "colab": {
          "base_uri": "https://localhost:8080/"
        },
        "id": "Pyl0Au6UCuRE",
        "outputId": "bac38031-ad24-4428-cfdf-2380bc23c768"
      },
      "outputs": [
        {
          "name": "stdout",
          "output_type": "stream",
          "text": [
            "Looking in indexes: https://pypi.org/simple, https://us-python.pkg.dev/colab-wheels/public/simple/\n",
            "Collecting snscrape\n",
            "  Downloading snscrape-0.6.1.20230314-py3-none-any.whl (71 kB)\n",
            "\u001b[2K     \u001b[90m━━━━━━━━━━━━━━━━━━━━━━━━━━━━━━━━━━━━━━━━\u001b[0m \u001b[32m71.6/71.6 KB\u001b[0m \u001b[31m4.8 MB/s\u001b[0m eta \u001b[36m0:00:00\u001b[0m\n",
            "\u001b[?25hRequirement already satisfied: beautifulsoup4 in /usr/local/lib/python3.9/dist-packages (from snscrape) (4.9.3)\n",
            "Requirement already satisfied: lxml in /usr/local/lib/python3.9/dist-packages (from snscrape) (4.9.2)\n",
            "Requirement already satisfied: requests[socks] in /usr/local/lib/python3.9/dist-packages (from snscrape) (2.25.1)\n",
            "Requirement already satisfied: filelock in /usr/local/lib/python3.9/dist-packages (from snscrape) (3.9.0)\n",
            "Requirement already satisfied: soupsieve>1.2 in /usr/local/lib/python3.9/dist-packages (from beautifulsoup4->snscrape) (2.4)\n",
            "Requirement already satisfied: certifi>=2017.4.17 in /usr/local/lib/python3.9/dist-packages (from requests[socks]->snscrape) (2022.12.7)\n",
            "Requirement already satisfied: urllib3<1.27,>=1.21.1 in /usr/local/lib/python3.9/dist-packages (from requests[socks]->snscrape) (1.26.15)\n",
            "Requirement already satisfied: idna<3,>=2.5 in /usr/local/lib/python3.9/dist-packages (from requests[socks]->snscrape) (2.10)\n",
            "Requirement already satisfied: chardet<5,>=3.0.2 in /usr/local/lib/python3.9/dist-packages (from requests[socks]->snscrape) (4.0.0)\n",
            "Requirement already satisfied: PySocks!=1.5.7,>=1.5.6 in /usr/local/lib/python3.9/dist-packages (from requests[socks]->snscrape) (1.7.1)\n",
            "Installing collected packages: snscrape\n",
            "Successfully installed snscrape-0.6.1.20230314\n"
          ]
        }
      ],
      "source": [
        "pip install snscrape"
      ]
    },
    {
      "cell_type": "code",
      "execution_count": 1,
      "metadata": {
        "id": "Oy8IRvuLAk9-"
      },
      "outputs": [],
      "source": [
        "import pandas as pd\n",
        "from tqdm.notebook import tqdm\n",
        "import snscrape.modules.twitter as sntwitter"
      ]
    },
    {
      "cell_type": "code",
      "execution_count": 9,
      "metadata": {
        "id": "a34rdBh7DMQx"
      },
      "outputs": [],
      "source": [
        "query = \"aapl OR tsla OR AAPL OR TSLA OR msft OR MSFT lang:en -filter:links\"\n",
        "tweets = []"
      ]
    },
    {
      "cell_type": "code",
      "execution_count": 3,
      "metadata": {
        "id": "g_Ns9C4OCo5N"
      },
      "outputs": [],
      "source": [
        "scraper = sntwitter.TwitterSearchScraper(query)"
      ]
    },
    {
      "cell_type": "code",
      "execution_count": 12,
      "metadata": {
        "id": "dIORiL6oDfU1"
      },
      "outputs": [],
      "source": [
        "for tweet in scraper.get_items():\n",
        "  break"
      ]
    },
    {
      "cell_type": "code",
      "execution_count": 13,
      "metadata": {
        "colab": {
          "base_uri": "https://localhost:8080/"
        },
        "id": "QGtuCO-UDmRd",
        "outputId": "a94e8189-8fbd-4e52-e9e3-74fc75e6ea9e"
      },
      "outputs": [
        {
          "data": {
            "text/plain": [
              "Tweet(url='https://twitter.com/RJRCapital/status/1648823224061378561', date=datetime.datetime(2023, 4, 19, 22, 57, 44, tzinfo=datetime.timezone.utc), rawContent='$TSLA and $NFLX told you the state of the consumer and you dumb bastards are still bidding $AAPL $NVDA. Thank you from the bottom of my heart.', renderedContent='$TSLA and $NFLX told you the state of the consumer and you dumb bastards are still bidding $AAPL $NVDA. Thank you from the bottom of my heart.', id=1648823224061378561, user=User(username='RJRCapital', id=223520770, displayname='RJR Capital', rawDescription=\"I'm here to learn and hopefully help retail investors....And talk fishing.\\n\\nNot investment advice. Do your own Due Diligence.\", renderedDescription=\"I'm here to learn and hopefully help retail investors....And talk fishing.\\n\\nNot investment advice. Do your own Due Diligence.\", descriptionLinks=None, verified=False, created=datetime.datetime(2010, 12, 6, 16, 34, 52, tzinfo=datetime.timezone.utc), followersCount=30899, friendsCount=2767, statusesCount=74783, favouritesCount=271887, listedCount=503, mediaCount=1771, location='South Flurda', protected=False, link=None, profileImageUrl='https://pbs.twimg.com/profile_images/1621120442529349634/XCLQSm9N_normal.jpg', profileBannerUrl='https://pbs.twimg.com/profile_banners/223520770/1614693565', label=None), replyCount=26, retweetCount=19, likeCount=293, quoteCount=1, conversationId=1648823224061378561, lang='en', source='<a href=\"http://twitter.com/download/android\" rel=\"nofollow\">Twitter for Android</a>', sourceUrl='http://twitter.com/download/android', sourceLabel='Twitter for Android', links=None, media=None, retweetedTweet=None, quotedTweet=None, inReplyToTweetId=None, inReplyToUser=None, mentionedUsers=None, coordinates=None, place=None, hashtags=None, cashtags=['TSLA', 'NFLX', 'AAPL', 'NVDA'], card=None, viewCount=26031, vibe=None)"
            ]
          },
          "execution_count": 13,
          "metadata": {},
          "output_type": "execute_result"
        }
      ],
      "source": [
        "tweet"
      ]
    },
    {
      "cell_type": "code",
      "execution_count": 14,
      "metadata": {
        "id": "I1EPeIKBD-2V"
      },
      "outputs": [
        {
          "data": {
            "application/json": {
              "ascii": false,
              "bar_format": null,
              "colour": null,
              "elapsed": 0.006501197814941406,
              "initial": 0,
              "n": 0,
              "ncols": null,
              "nrows": null,
              "postfix": null,
              "prefix": "",
              "rate": null,
              "total": 250000,
              "unit": "it",
              "unit_divisor": 1000,
              "unit_scale": false
            },
            "application/vnd.jupyter.widget-view+json": {
              "model_id": "c3eb7efcbf9e4d70917df81da5cf15fa",
              "version_major": 2,
              "version_minor": 0
            },
            "text/plain": [
              "  0%|          | 0/250000 [00:00<?, ?it/s]"
            ]
          },
          "metadata": {},
          "output_type": "display_data"
        }
      ],
      "source": [
        "for i,tweet in tqdm(enumerate(scraper.get_items()),total = 250000):\n",
        "  if i > 250000:\n",
        "    break\n",
        "  data = [\n",
        "    tweet.date,\n",
        "    tweet.rawContent\n",
        "  ]\n",
        "  tweets.append(data)"
      ]
    },
    {
      "cell_type": "code",
      "execution_count": null,
      "metadata": {
        "colab": {
          "base_uri": "https://localhost:8080/",
          "height": 204
        },
        "id": "0QbiMvDdEhTN",
        "outputId": "54509cda-94ab-4fdd-fe3f-1ed194855862"
      },
      "outputs": [
        {
          "data": {
            "text/html": [
              "\n",
              "  <div id=\"df-05870ca3-7e76-48ce-a2ca-b6fd105be1d6\">\n",
              "    <div class=\"colab-df-container\">\n",
              "      <div>\n",
              "<style scoped>\n",
              "    .dataframe tbody tr th:only-of-type {\n",
              "        vertical-align: middle;\n",
              "    }\n",
              "\n",
              "    .dataframe tbody tr th {\n",
              "        vertical-align: top;\n",
              "    }\n",
              "\n",
              "    .dataframe thead th {\n",
              "        text-align: right;\n",
              "    }\n",
              "</style>\n",
              "<table border=\"1\" class=\"dataframe\">\n",
              "  <thead>\n",
              "    <tr style=\"text-align: right;\">\n",
              "      <th></th>\n",
              "      <th>0</th>\n",
              "      <th>1</th>\n",
              "    </tr>\n",
              "  </thead>\n",
              "  <tbody>\n",
              "    <tr>\n",
              "      <th>0</th>\n",
              "      <td>2023-03-16 11:49:25+00:00</td>\n",
              "      <td>💡 Execution matters not the Idea\\n\\n#DataScien...</td>\n",
              "    </tr>\n",
              "    <tr>\n",
              "      <th>1</th>\n",
              "      <td>2023-03-16 11:49:07+00:00</td>\n",
              "      <td>逆に、数式に落とすのがめんどくさいモデルを適当に最適化したいときに\\nニューラルネットワーク...</td>\n",
              "    </tr>\n",
              "    <tr>\n",
              "      <th>2</th>\n",
              "      <td>2023-03-16 11:48:49+00:00</td>\n",
              "      <td>Top 8 Courses to Learn Apache Spark Online in ...</td>\n",
              "    </tr>\n",
              "    <tr>\n",
              "      <th>3</th>\n",
              "      <td>2023-03-16 11:48:29+00:00</td>\n",
              "      <td>Rust Developers Cancel GDC Presentation Due To...</td>\n",
              "    </tr>\n",
              "    <tr>\n",
              "      <th>4</th>\n",
              "      <td>2023-03-16 11:48:28+00:00</td>\n",
              "      <td>Avatar: The Way Of Water - how gaming tech hel...</td>\n",
              "    </tr>\n",
              "  </tbody>\n",
              "</table>\n",
              "</div>\n",
              "      <button class=\"colab-df-convert\" onclick=\"convertToInteractive('df-05870ca3-7e76-48ce-a2ca-b6fd105be1d6')\"\n",
              "              title=\"Convert this dataframe to an interactive table.\"\n",
              "              style=\"display:none;\">\n",
              "        \n",
              "  <svg xmlns=\"http://www.w3.org/2000/svg\" height=\"24px\"viewBox=\"0 0 24 24\"\n",
              "       width=\"24px\">\n",
              "    <path d=\"M0 0h24v24H0V0z\" fill=\"none\"/>\n",
              "    <path d=\"M18.56 5.44l.94 2.06.94-2.06 2.06-.94-2.06-.94-.94-2.06-.94 2.06-2.06.94zm-11 1L8.5 8.5l.94-2.06 2.06-.94-2.06-.94L8.5 2.5l-.94 2.06-2.06.94zm10 10l.94 2.06.94-2.06 2.06-.94-2.06-.94-.94-2.06-.94 2.06-2.06.94z\"/><path d=\"M17.41 7.96l-1.37-1.37c-.4-.4-.92-.59-1.43-.59-.52 0-1.04.2-1.43.59L10.3 9.45l-7.72 7.72c-.78.78-.78 2.05 0 2.83L4 21.41c.39.39.9.59 1.41.59.51 0 1.02-.2 1.41-.59l7.78-7.78 2.81-2.81c.8-.78.8-2.07 0-2.86zM5.41 20L4 18.59l7.72-7.72 1.47 1.35L5.41 20z\"/>\n",
              "  </svg>\n",
              "      </button>\n",
              "      \n",
              "  <style>\n",
              "    .colab-df-container {\n",
              "      display:flex;\n",
              "      flex-wrap:wrap;\n",
              "      gap: 12px;\n",
              "    }\n",
              "\n",
              "    .colab-df-convert {\n",
              "      background-color: #E8F0FE;\n",
              "      border: none;\n",
              "      border-radius: 50%;\n",
              "      cursor: pointer;\n",
              "      display: none;\n",
              "      fill: #1967D2;\n",
              "      height: 32px;\n",
              "      padding: 0 0 0 0;\n",
              "      width: 32px;\n",
              "    }\n",
              "\n",
              "    .colab-df-convert:hover {\n",
              "      background-color: #E2EBFA;\n",
              "      box-shadow: 0px 1px 2px rgba(60, 64, 67, 0.3), 0px 1px 3px 1px rgba(60, 64, 67, 0.15);\n",
              "      fill: #174EA6;\n",
              "    }\n",
              "\n",
              "    [theme=dark] .colab-df-convert {\n",
              "      background-color: #3B4455;\n",
              "      fill: #D2E3FC;\n",
              "    }\n",
              "\n",
              "    [theme=dark] .colab-df-convert:hover {\n",
              "      background-color: #434B5C;\n",
              "      box-shadow: 0px 1px 3px 1px rgba(0, 0, 0, 0.15);\n",
              "      filter: drop-shadow(0px 1px 2px rgba(0, 0, 0, 0.3));\n",
              "      fill: #FFFFFF;\n",
              "    }\n",
              "  </style>\n",
              "\n",
              "      <script>\n",
              "        const buttonEl =\n",
              "          document.querySelector('#df-05870ca3-7e76-48ce-a2ca-b6fd105be1d6 button.colab-df-convert');\n",
              "        buttonEl.style.display =\n",
              "          google.colab.kernel.accessAllowed ? 'block' : 'none';\n",
              "\n",
              "        async function convertToInteractive(key) {\n",
              "          const element = document.querySelector('#df-05870ca3-7e76-48ce-a2ca-b6fd105be1d6');\n",
              "          const dataTable =\n",
              "            await google.colab.kernel.invokeFunction('convertToInteractive',\n",
              "                                                     [key], {});\n",
              "          if (!dataTable) return;\n",
              "\n",
              "          const docLinkHtml = 'Like what you see? Visit the ' +\n",
              "            '<a target=\"_blank\" href=https://colab.research.google.com/notebooks/data_table.ipynb>data table notebook</a>'\n",
              "            + ' to learn more about interactive tables.';\n",
              "          element.innerHTML = '';\n",
              "          dataTable['output_type'] = 'display_data';\n",
              "          await google.colab.output.renderOutput(dataTable, element);\n",
              "          const docLink = document.createElement('div');\n",
              "          docLink.innerHTML = docLinkHtml;\n",
              "          element.appendChild(docLink);\n",
              "        }\n",
              "      </script>\n",
              "    </div>\n",
              "  </div>\n",
              "  "
            ],
            "text/plain": [
              "                          0                                                  1\n",
              "0 2023-03-16 11:49:25+00:00  💡 Execution matters not the Idea\\n\\n#DataScien...\n",
              "1 2023-03-16 11:49:07+00:00  逆に、数式に落とすのがめんどくさいモデルを適当に最適化したいときに\\nニューラルネットワーク...\n",
              "2 2023-03-16 11:48:49+00:00  Top 8 Courses to Learn Apache Spark Online in ...\n",
              "3 2023-03-16 11:48:29+00:00  Rust Developers Cancel GDC Presentation Due To...\n",
              "4 2023-03-16 11:48:28+00:00  Avatar: The Way Of Water - how gaming tech hel..."
            ]
          },
          "execution_count": 17,
          "metadata": {},
          "output_type": "execute_result"
        }
      ],
      "source": [
        "df = pd.DataFrame(tweets)\n",
        "df.head()"
      ]
    },
    {
      "cell_type": "code",
      "execution_count": null,
      "metadata": {
        "id": "jtS0pgfwQZJR"
      },
      "outputs": [],
      "source": [
        "csv_string = df.to_csv(index=False)"
      ]
    },
    {
      "cell_type": "code",
      "execution_count": null,
      "metadata": {
        "id": "Rjtrou7oStwa"
      },
      "outputs": [],
      "source": [
        "with open('sample.csv', 'w') as f:\n",
        "    f.write(csv_string)"
      ]
    },
    {
      "cell_type": "code",
      "execution_count": null,
      "metadata": {
        "colab": {
          "base_uri": "https://localhost:8080/"
        },
        "id": "H6aB7RLZS31O",
        "outputId": "f487efd9-4e6f-4a1f-9bf6-885b0f946609"
      },
      "outputs": [
        {
          "data": {
            "text/plain": [
              "0     💡 Execution matters not the Idea\\n\\n#DataScien...\n",
              "1     逆に、数式に落とすのがめんどくさいモデルを適当に最適化したいときに\\nニューラルネットワーク...\n",
              "2     Top 8 Courses to Learn Apache Spark Online in ...\n",
              "3     Rust Developers Cancel GDC Presentation Due To...\n",
              "4     Avatar: The Way Of Water - how gaming tech hel...\n",
              "5     Python Basics - I have just completed this roo...\n",
              "6     Just released: \"PyTorch and Scikit-Learn for M...\n",
              "7     \"Are you ready to master Python? Check out 'Ge...\n",
              "8     Finally!!!\\nI managed to put my hands on an #e...\n",
              "9     NEW #PMP Course on Udemy \\n\\nPMP Exam Preparat...\n",
              "10    「最大文字列」合格できました！ https://t.co/FnnMQHaRZX #Recur...\n",
              "11    LinkedIn now uses AI to write profiles and job...\n",
              "Name: 1, dtype: object"
            ]
          },
          "execution_count": 26,
          "metadata": {},
          "output_type": "execute_result"
        }
      ],
      "source": [
        "url = \"https://raw.githubusercontent.com/Ajblahblah-01/tweet_dataset_labelled_by_roberta/test-encoding/temp/sample.csv\"\n",
        "df = pd.read_csv(url)\n",
        "df['1'].head(12)"
      ]
    },
    {
      "cell_type": "code",
      "execution_count": null,
      "metadata": {
        "id": "ZeqHQd6qTKUB"
      },
      "outputs": [],
      "source": []
    }
  ],
  "metadata": {
    "colab": {
      "include_colab_link": true,
      "provenance": []
    },
    "kernelspec": {
      "display_name": "Python 3",
      "name": "python3"
    },
    "language_info": {
      "codemirror_mode": {
        "name": "ipython",
        "version": 3
      },
      "file_extension": ".py",
      "mimetype": "text/x-python",
      "name": "python",
      "nbconvert_exporter": "python",
      "pygments_lexer": "ipython3",
      "version": "3.9.10"
    }
  },
  "nbformat": 4,
  "nbformat_minor": 0
}
