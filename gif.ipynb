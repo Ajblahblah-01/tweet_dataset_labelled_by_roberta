{
 "cells": [
  {
   "cell_type": "code",
   "execution_count": 1,
   "metadata": {},
   "outputs": [],
   "source": [
    "from PIL import Image\n",
    "import os"
   ]
  },
  {
   "cell_type": "code",
   "execution_count": 4,
   "metadata": {},
   "outputs": [],
   "source": [
    "def limit_gif_loop_count(input_path, output_path, loop_count=1):\n",
    "    try:\n",
    "        # Open the GIF image\n",
    "        with Image.open(input_path) as im:\n",
    "            # Check if it's a GIF\n",
    "            if im.is_animated:\n",
    "                # Set the loop count\n",
    "                im.info['loop'] = loop_count\n",
    "                # Save the modified GIF\n",
    "                im.save(output_path, save_all=True)\n",
    "                print(f\"Processed: {input_path}\")\n",
    "            else:\n",
    "                print(f\"Not a GIF: {input_path}\")\n",
    "    except Exception as e:\n",
    "        print(f\"Error processing {input_path}: {str(e)}\")"
   ]
  },
  {
   "cell_type": "code",
   "execution_count": 5,
   "metadata": {},
   "outputs": [
    {
     "name": "stdout",
     "output_type": "stream",
     "text": [
      "Not a GIF: gifs/revise.gif\n",
      "Error processing gifs/.DS_Store: cannot identify image file 'gifs/.DS_Store'\n",
      "Processed: gifs/learn.gif\n",
      "Processed: gifs/search.gif\n"
     ]
    }
   ],
   "source": [
    "input_folder = 'gifs'  # Replace with the path to your input folder\n",
    "output_folder = 'gifs'  # Replace with the path to your output folder\n",
    "loop_count = 1  # Desired loop count\n",
    "\n",
    "if not os.path.exists(output_folder):\n",
    "    os.mkdir(output_folder)\n",
    "\n",
    "for filename in os.listdir(input_folder):\n",
    "    input_path = os.path.join(input_folder, filename)\n",
    "    output_path = os.path.join(output_folder, filename)\n",
    "\n",
    "    # Check if the file is a valid image before processing\n",
    "    if os.path.isfile(input_path):\n",
    "        limit_gif_loop_count(input_path, output_path, loop_count)"
   ]
  },
  {
   "cell_type": "code",
   "execution_count": null,
   "metadata": {},
   "outputs": [],
   "source": []
  }
 ],
 "metadata": {
  "kernelspec": {
   "display_name": "env_tf",
   "language": "python",
   "name": "python3"
  },
  "language_info": {
   "codemirror_mode": {
    "name": "ipython",
    "version": 3
   },
   "file_extension": ".py",
   "mimetype": "text/x-python",
   "name": "python",
   "nbconvert_exporter": "python",
   "pygments_lexer": "ipython3",
   "version": "3.9.10"
  }
 },
 "nbformat": 4,
 "nbformat_minor": 2
}
